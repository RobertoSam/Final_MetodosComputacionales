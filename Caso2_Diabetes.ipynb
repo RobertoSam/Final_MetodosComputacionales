{
 "cells": [
  {
   "cell_type": "code",
   "execution_count": null,
   "id": "138a00c2",
   "metadata": {},
   "outputs": [],
   "source": [
    "# Caso 2: Predicción de Diabetes\n",
    "\n",
    "# --- Parte 1: Fundamento Teórico ---\n",
    "\"\"\" ... \"\"\"  # contenido ya creado previamente\n"
   ]
  }
 ],
 "metadata": {},
 "nbformat": 4,
 "nbformat_minor": 5
}
